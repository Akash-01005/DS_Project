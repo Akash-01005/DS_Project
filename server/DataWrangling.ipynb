{
  "nbformat": 4,
  "nbformat_minor": 0,
  "metadata": {
    "colab": {
      "provenance": []
    },
    "kernelspec": {
      "name": "python3",
      "display_name": "Python 3"
    },
    "language_info": {
      "name": "python"
    }
  },
  "cells": [
    {
      "cell_type": "code",
      "source": [
        "import pandas as pd\n",
        "import numpy as np\n",
        "\n",
        "df = pd.DataFrame(pd.read_csv(\"Cleaned_Car_Details.csv\"))\n",
        "print(df.head())"
      ],
      "metadata": {
        "colab": {
          "base_uri": "https://localhost:8080/"
        },
        "id": "7TlHixCUUAU4",
        "outputId": "78d6efe3-d106-41e7-9ad4-ca11c48bcbb4"
      },
      "execution_count": 1,
      "outputs": [
        {
          "output_type": "stream",
          "name": "stdout",
          "text": [
            "                           name  year    fuel transmission  mileage  engine  \\\n",
            "0        Maruti Swift Dzire VDI  2014  Diesel       Manual    23.40  1248.0   \n",
            "1  Skoda Rapid 1.5 TDI Ambition  2014  Diesel       Manual    21.14  1498.0   \n",
            "2      Honda City 2017-2020 EXi  2006  Petrol       Manual    17.70  1497.0   \n",
            "3     Hyundai i20 Sportz Diesel  2010  Diesel       Manual    23.00  1396.0   \n",
            "4        Maruti Swift VXI BSIII  2007  Petrol       Manual    16.10  1298.0   \n",
            "\n",
            "   max_power                    torque  seats  \n",
            "0      74.00            190Nm@ 2000rpm      5  \n",
            "1     103.52       250Nm@ 1500-2500rpm      5  \n",
            "2      78.00     12.7@ 2,700(kgm@ rpm)      5  \n",
            "3      90.00  22.4 kgm at 1750-2750rpm      5  \n",
            "4      88.20     11.5@ 4,500(kgm@ rpm)      5  \n"
          ]
        }
      ]
    },
    {
      "cell_type": "code",
      "execution_count": 6,
      "metadata": {
        "colab": {
          "base_uri": "https://localhost:8080/"
        },
        "id": "kpI9hM1oT0vj",
        "outputId": "fdae1bbb-7001-41fa-e842-4ab6455f2f08"
      },
      "outputs": [
        {
          "output_type": "stream",
          "name": "stdout",
          "text": [
            "Sorting data in descending order:\n",
            "\n",
            "                               name  year    fuel transmission  mileage  \\\n",
            "1094             Mahindra XUV500 W7  2020  Diesel       Manual    15.10   \n",
            "2052      Tata Zest Revotron 1.2 XT  2020  Petrol       Manual    17.57   \n",
            "2775       Maruti Vitara Brezza VDi  2020  Diesel       Manual    24.30   \n",
            "3594  Hyundai Grand i10 Nios Sportz  2020  Petrol       Manual    20.70   \n",
            "1814   Maruti Eeco 5 Seater AC BSIV  2020  Petrol       Manual    15.37   \n",
            "\n",
            "      engine  max_power               torque  seats  \n",
            "1094  2179.0     152.87  360Nm@ 1750-2800rpm      7  \n",
            "2052  1193.0      88.70  140Nm@ 1500-4000rpm      5  \n",
            "2775  1248.0      88.50       200Nm@ 1750rpm      5  \n",
            "3594  1197.0      81.86    113.75Nm@ 4000rpm      5  \n",
            "1814  1196.0      73.00       101Nm@ 3000rpm      5  \n",
            "\n",
            "Sorting data in ascending order:\n",
            "\n",
            "                                   name  year    fuel transmission  mileage  \\\n",
            "2154     Ambassador CLASSIC 1500 DSL AC  2000  Diesel       Manual    12.80   \n",
            "2664  Ambassador Classic 2000 DSZ AC PS  1994  Diesel       Manual    12.80   \n",
            "2762    Ambassador Grand 1500 DSZ BSIII  2008  Diesel       Manual    12.80   \n",
            "3752    Ambassador Grand 2000 DSZ PW CL  2008  Diesel       Manual    13.50   \n",
            "2415             Ashok Leyland Stile LE  2013  Diesel       Manual    20.07   \n",
            "\n",
            "      engine  max_power               torque  seats  \n",
            "2154  1489.0       35.5      72.9Nm@ 2250rpm      5  \n",
            "2664  1995.0       52.0       106Nm@ 2200rpm      5  \n",
            "2762  1995.0       52.0       106Nm@ 2200rpm      5  \n",
            "3752  1995.0       52.0       106Nm@ 2200rpm      5  \n",
            "2415  1461.0       75.0  185Nm@ 1750-2750rpm      8  \n"
          ]
        }
      ],
      "source": [
        "print(\"Sorting data in descending order:\\n\")\n",
        "df_sorted = df.sort_values(by=['year'], ascending=False)\n",
        "print(df_sorted.head())\n",
        "\n",
        "print(\"\\nSorting data in ascending order:\\n\")\n",
        "df_sorted = df.sort_values(by=['name'])\n",
        "print(df_sorted.head())"
      ]
    },
    {
      "cell_type": "code",
      "source": [
        "filtered_df = df[df['mileage'] > 20]\n",
        "print(filtered_df.head())\n"
      ],
      "metadata": {
        "colab": {
          "base_uri": "https://localhost:8080/"
        },
        "id": "N9D1KUGqVvuj",
        "outputId": "8ef0239f-a9ed-47d0-d37f-92648e01317d"
      },
      "execution_count": 7,
      "outputs": [
        {
          "output_type": "stream",
          "name": "stdout",
          "text": [
            "                            name  year    fuel transmission  mileage  engine  \\\n",
            "0         Maruti Swift Dzire VDI  2014  Diesel       Manual    23.40  1248.0   \n",
            "1   Skoda Rapid 1.5 TDI Ambition  2014  Diesel       Manual    21.14  1498.0   \n",
            "3      Hyundai i20 Sportz Diesel  2010  Diesel       Manual    23.00  1396.0   \n",
            "5  Hyundai Xcent 1.2 VTVT E Plus  2017  Petrol       Manual    20.14  1197.0   \n",
            "6   Maruti Wagon R LXI DUO BSIII  2007     LPG       Manual    24.22  1061.0   \n",
            "\n",
            "   max_power                    torque  seats  \n",
            "0      74.00            190Nm@ 2000rpm      5  \n",
            "1     103.52       250Nm@ 1500-2500rpm      5  \n",
            "3      90.00  22.4 kgm at 1750-2750rpm      5  \n",
            "5      81.86         113.75nm@ 4000rpm      5  \n",
            "6      57.50      7.8@ 4,500(kgm@ rpm)      5  \n"
          ]
        }
      ]
    },
    {
      "cell_type": "code",
      "source": [
        "reduced_df = df.dropna(subset=['seats'])"
      ],
      "metadata": {
        "id": "C9TZmGgKV35F"
      },
      "execution_count": 9,
      "outputs": []
    },
    {
      "cell_type": "code",
      "source": [
        "grouped_df = df.groupby('name')['max_power'].mean()\n",
        "print(grouped_df.head())"
      ],
      "metadata": {
        "colab": {
          "base_uri": "https://localhost:8080/"
        },
        "id": "IE17G36zWB9Z",
        "outputId": "3b685e9f-869a-4358-929a-47b7f122d08e"
      },
      "execution_count": 11,
      "outputs": [
        {
          "output_type": "stream",
          "name": "stdout",
          "text": [
            "name\n",
            "Ambassador CLASSIC 1500 DSL AC       35.5\n",
            "Ambassador Classic 2000 DSZ AC PS    52.0\n",
            "Ambassador Grand 1500 DSZ BSIII      52.0\n",
            "Ambassador Grand 2000 DSZ PW CL      52.0\n",
            "Ashok Leyland Stile LE               75.0\n",
            "Name: max_power, dtype: float64\n"
          ]
        }
      ]
    },
    {
      "cell_type": "code",
      "source": [
        "std_mileage = df['mileage'].std()\n",
        "print(std_mileage)"
      ],
      "metadata": {
        "colab": {
          "base_uri": "https://localhost:8080/"
        },
        "id": "mzYh-44nWoTL",
        "outputId": "a9ce0735-b0a7-4f5d-ca93-e97598eba0d6"
      },
      "execution_count": 12,
      "outputs": [
        {
          "output_type": "stream",
          "name": "stdout",
          "text": [
            "4.42698777894867\n"
          ]
        }
      ]
    },
    {
      "cell_type": "code",
      "source": [
        "merged_df = pd.merge(filtered_df,grouped_df,how='inner')\n",
        "print(merged_df.head())"
      ],
      "metadata": {
        "colab": {
          "base_uri": "https://localhost:8080/"
        },
        "id": "MUXFhYacW73_",
        "outputId": "00655d18-ecec-40cf-f3d1-48ef054aecc2"
      },
      "execution_count": 14,
      "outputs": [
        {
          "output_type": "stream",
          "name": "stdout",
          "text": [
            "                     name  year    fuel transmission  mileage  engine  \\\n",
            "0  Maruti Swift Dzire VDI  2014  Diesel       Manual     23.4  1248.0   \n",
            "1  Maruti Swift Dzire VDI  2014  Diesel       Manual     23.4  1248.0   \n",
            "2  Maruti Swift Dzire VDI  2014  Diesel       Manual     23.4  1248.0   \n",
            "3  Maruti Swift Dzire VDI  2014  Diesel       Manual     23.4  1248.0   \n",
            "4  Maruti Swift Dzire VDI  2014  Diesel       Manual     23.4  1248.0   \n",
            "\n",
            "   max_power          torque  seats  \n",
            "0       74.0  190Nm@ 2000rpm      5  \n",
            "1       74.0  190Nm@ 2000rpm      5  \n",
            "2       74.0  190Nm@ 2000rpm      5  \n",
            "3       74.0  190Nm@ 2000rpm      5  \n",
            "4       74.0  190Nm@ 2000rpm      5  \n"
          ]
        }
      ]
    },
    {
      "cell_type": "code",
      "source": [
        "melted_df = pd.melt(df, id_vars='name', value_vars='mileage')\n",
        "print(melted_df.head())"
      ],
      "metadata": {
        "colab": {
          "base_uri": "https://localhost:8080/"
        },
        "id": "9EkfIQymXj0x",
        "outputId": "2900e8e9-08c4-472f-ab3d-ca84dfff2205"
      },
      "execution_count": 15,
      "outputs": [
        {
          "output_type": "stream",
          "name": "stdout",
          "text": [
            "                           name variable  value\n",
            "0        Maruti Swift Dzire VDI  mileage  23.40\n",
            "1  Skoda Rapid 1.5 TDI Ambition  mileage  21.14\n",
            "2      Honda City 2017-2020 EXi  mileage  17.70\n",
            "3     Hyundai i20 Sportz Diesel  mileage  23.00\n",
            "4        Maruti Swift VXI BSIII  mileage  16.10\n"
          ]
        }
      ]
    },
    {
      "cell_type": "code",
      "source": [
        "df['mileage'] = df['mileage'].fillna(df['mileage'].mean())\n",
        "print(df.head())"
      ],
      "metadata": {
        "colab": {
          "base_uri": "https://localhost:8080/"
        },
        "id": "zK6MMFWIX3gH",
        "outputId": "558fbc94-ef87-4b7a-a191-e0026c832af0"
      },
      "execution_count": 17,
      "outputs": [
        {
          "output_type": "stream",
          "name": "stdout",
          "text": [
            "                           name  year    fuel transmission  mileage  engine  \\\n",
            "0        Maruti Swift Dzire VDI  2014  Diesel       Manual    23.40  1248.0   \n",
            "1  Skoda Rapid 1.5 TDI Ambition  2014  Diesel       Manual    21.14  1498.0   \n",
            "2      Honda City 2017-2020 EXi  2006  Petrol       Manual    17.70  1497.0   \n",
            "3     Hyundai i20 Sportz Diesel  2010  Diesel       Manual    23.00  1396.0   \n",
            "4        Maruti Swift VXI BSIII  2007  Petrol       Manual    16.10  1298.0   \n",
            "\n",
            "   max_power                    torque  seats  \n",
            "0      74.00            190Nm@ 2000rpm      5  \n",
            "1     103.52       250Nm@ 1500-2500rpm      5  \n",
            "2      78.00     12.7@ 2,700(kgm@ rpm)      5  \n",
            "3      90.00  22.4 kgm at 1750-2750rpm      5  \n",
            "4      88.20     11.5@ 4,500(kgm@ rpm)      5  \n"
          ]
        }
      ]
    },
    {
      "cell_type": "code",
      "source": [
        "Q1 = df['max_power'].quantile(0.25)\n",
        "Q3 = df['max_power'].quantile(0.75)\n",
        "IQR = Q3 - Q1\n",
        "lower_bound = Q1 - 1.5 * IQR\n",
        "upper_bound = Q3 + 1.5 * IQR\n",
        "df_no_outliers = df[(df['max_power'] >= lower_bound) & (df['max_power'] <= upper_bound)]\n",
        "print(df_no_outliers.head())"
      ],
      "metadata": {
        "colab": {
          "base_uri": "https://localhost:8080/"
        },
        "id": "KWsZH9UfYHvM",
        "outputId": "54802c83-6a72-47df-c8d0-faaf3f774752"
      },
      "execution_count": 18,
      "outputs": [
        {
          "output_type": "stream",
          "name": "stdout",
          "text": [
            "                           name  year    fuel transmission  mileage  engine  \\\n",
            "0        Maruti Swift Dzire VDI  2014  Diesel       Manual    23.40  1248.0   \n",
            "1  Skoda Rapid 1.5 TDI Ambition  2014  Diesel       Manual    21.14  1498.0   \n",
            "2      Honda City 2017-2020 EXi  2006  Petrol       Manual    17.70  1497.0   \n",
            "3     Hyundai i20 Sportz Diesel  2010  Diesel       Manual    23.00  1396.0   \n",
            "4        Maruti Swift VXI BSIII  2007  Petrol       Manual    16.10  1298.0   \n",
            "\n",
            "   max_power                    torque  seats  \n",
            "0      74.00            190Nm@ 2000rpm      5  \n",
            "1     103.52       250Nm@ 1500-2500rpm      5  \n",
            "2      78.00     12.7@ 2,700(kgm@ rpm)      5  \n",
            "3      90.00  22.4 kgm at 1750-2750rpm      5  \n",
            "4      88.20     11.5@ 4,500(kgm@ rpm)      5  \n"
          ]
        }
      ]
    }
  ]
}